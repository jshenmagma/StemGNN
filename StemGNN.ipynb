{
 "cells": [
  {
   "cell_type": "code",
   "execution_count": 1,
   "id": "5b1ab3dd",
   "metadata": {},
   "outputs": [],
   "source": [
    "from bmllData.bar.barBatchData import barBatchData\n",
    "import pandas as pd\n",
    "pd.set_option('display.max_rows', 100)\n",
    "pd.set_option('display.max_columns', 100)\n",
    "from usefulTool.datetimeTool import get_trade_date_range\n",
    "import numpy as np\n",
    "import matplotlib.pyplot as plt"
   ]
  },
  {
   "cell_type": "code",
   "execution_count": null,
   "id": "2c8da69e",
   "metadata": {},
   "outputs": [],
   "source": []
  },
  {
   "cell_type": "markdown",
   "id": "691fcf84",
   "metadata": {},
   "source": [
    "## Our dataset"
   ]
  },
  {
   "cell_type": "code",
   "execution_count": 2,
   "id": "13e1d484",
   "metadata": {},
   "outputs": [],
   "source": [
    "temp = pd.read_parquet('/data/other_data/bar_data_56_tickers.parquet.gzip')"
   ]
  },
  {
   "cell_type": "code",
   "execution_count": 3,
   "id": "05b7a8e2",
   "metadata": {},
   "outputs": [
    {
     "data": {
      "text/plain": [
       "(56704988, 20)"
      ]
     },
     "execution_count": 3,
     "metadata": {},
     "output_type": "execute_result"
    }
   ],
   "source": [
    "temp.shape"
   ]
  },
  {
   "cell_type": "code",
   "execution_count": null,
   "id": "7c6bf95b",
   "metadata": {},
   "outputs": [],
   "source": []
  },
  {
   "cell_type": "code",
   "execution_count": 4,
   "id": "121b58ee",
   "metadata": {},
   "outputs": [],
   "source": [
    "dfA = pd.read_parquet('jiahong/prediction_0.parquet')\n",
    "\n",
    "for i in range(1, 42):\n",
    "    dfB = pd.read_parquet('jiahong/prediction_{}.parquet'.format(i))\n",
    "    dfA.update(dfB)\n",
    "    non_overlapping_rows = dfB[~dfB.index.isin(dfA.index)]\n",
    "    dfA = pd.concat([dfA, non_overlapping_rows])"
   ]
  },
  {
   "cell_type": "code",
   "execution_count": 5,
   "id": "3976c792",
   "metadata": {},
   "outputs": [],
   "source": [
    "stacked_df = dfA.stack()\n",
    "\n",
    "# Swap the level of the index to make the original columns as the first level\n",
    "multi_index_df = stacked_df.swaplevel(0, 1)\n",
    "\n",
    "# Sort the index\n",
    "multi_index_df = multi_index_df.sort_index()\n",
    "\n",
    "multi_index_df = multi_index_df.to_frame(name='pred_close')"
   ]
  },
  {
   "cell_type": "code",
   "execution_count": 6,
   "id": "c7607961",
   "metadata": {
    "scrolled": true
   },
   "outputs": [
    {
     "name": "stderr",
     "output_type": "stream",
     "text": [
      "/tmp/ipykernel_4087373/1732858635.py:5: FutureWarning: Not prepending group keys to the result index of transform-like apply. In the future, the group keys will be included in the index, regardless of whether the applied function returns a like-indexed object.\n",
      "To preserve the previous behavior, use\n",
      "\n",
      "\t>>> .groupby(..., group_keys=False)\n",
      "\n",
      "To adopt the future behavior and silence this warning, use \n",
      "\n",
      "\t>>> .groupby(..., group_keys=True)\n",
      "  multi_index_df['pred_close_shift'] = multi_index_df.groupby(level=0)['pred_close'].apply(shift_within_group)\n"
     ]
    }
   ],
   "source": [
    "def shift_within_group(group):\n",
    "    return group.shift(-36)  # Replace 29 with your desired shift value\n",
    "\n",
    "# Group by the first level of the index and apply the function\n",
    "multi_index_df['pred_close_shift'] = multi_index_df.groupby(level=0)['pred_close'].apply(shift_within_group)"
   ]
  },
  {
   "cell_type": "code",
   "execution_count": 7,
   "id": "a88b92e6",
   "metadata": {},
   "outputs": [],
   "source": [
    "temp_close = temp[['close']]"
   ]
  },
  {
   "cell_type": "code",
   "execution_count": 8,
   "id": "1883992d",
   "metadata": {},
   "outputs": [],
   "source": [
    "temp_close = temp_close.loc[pd.IndexSlice[:, dfA.index[0]:dfA.index[-1]], :]"
   ]
  },
  {
   "cell_type": "code",
   "execution_count": 9,
   "id": "36ed398f",
   "metadata": {},
   "outputs": [
    {
     "name": "stderr",
     "output_type": "stream",
     "text": [
      "/tmp/ipykernel_4087373/950199368.py:1: FutureWarning: Not prepending group keys to the result index of transform-like apply. In the future, the group keys will be included in the index, regardless of whether the applied function returns a like-indexed object.\n",
      "To preserve the previous behavior, use\n",
      "\n",
      "\t>>> .groupby(..., group_keys=False)\n",
      "\n",
      "To adopt the future behavior and silence this warning, use \n",
      "\n",
      "\t>>> .groupby(..., group_keys=True)\n",
      "  temp_close['close_shift'] = temp_close.groupby(level=0)['close'].apply(shift_within_group)\n"
     ]
    }
   ],
   "source": [
    "temp_close['close_shift'] = temp_close.groupby(level=0)['close'].apply(shift_within_group)"
   ]
  },
  {
   "cell_type": "code",
   "execution_count": 10,
   "id": "4e2987e7",
   "metadata": {},
   "outputs": [],
   "source": [
    "new_df = pd.merge(multi_index_df, temp_close, left_index=True, right_index=True, how='inner')"
   ]
  },
  {
   "cell_type": "code",
   "execution_count": 11,
   "id": "4d7c628a",
   "metadata": {},
   "outputs": [],
   "source": [
    "new_df['return'] = new_df['close_shift']/new_df['close']\n",
    "new_df['pred_return'] = new_df['pred_close_shift']/new_df['close']\n",
    "new_df['pred_pred_return'] = new_df['pred_close_shift']/new_df['pred_close']"
   ]
  },
  {
   "cell_type": "code",
   "execution_count": 12,
   "id": "fba80349",
   "metadata": {},
   "outputs": [],
   "source": [
    "new_df = new_df[['return', 'pred_return', 'pred_pred_return']]"
   ]
  },
  {
   "cell_type": "code",
   "execution_count": 13,
   "id": "46c408bd",
   "metadata": {},
   "outputs": [
    {
     "data": {
      "text/html": [
       "<div>\n",
       "<style scoped>\n",
       "    .dataframe tbody tr th:only-of-type {\n",
       "        vertical-align: middle;\n",
       "    }\n",
       "\n",
       "    .dataframe tbody tr th {\n",
       "        vertical-align: top;\n",
       "    }\n",
       "\n",
       "    .dataframe thead th {\n",
       "        text-align: right;\n",
       "    }\n",
       "</style>\n",
       "<table border=\"1\" class=\"dataframe\">\n",
       "  <thead>\n",
       "    <tr style=\"text-align: right;\">\n",
       "      <th></th>\n",
       "      <th>return</th>\n",
       "      <th>pred_return</th>\n",
       "      <th>pred_pred_return</th>\n",
       "    </tr>\n",
       "  </thead>\n",
       "  <tbody>\n",
       "    <tr>\n",
       "      <th>return</th>\n",
       "      <td>1.000000</td>\n",
       "      <td>-0.011252</td>\n",
       "      <td>-0.012870</td>\n",
       "    </tr>\n",
       "    <tr>\n",
       "      <th>pred_return</th>\n",
       "      <td>-0.011252</td>\n",
       "      <td>1.000000</td>\n",
       "      <td>0.041072</td>\n",
       "    </tr>\n",
       "    <tr>\n",
       "      <th>pred_pred_return</th>\n",
       "      <td>-0.012870</td>\n",
       "      <td>0.041072</td>\n",
       "      <td>1.000000</td>\n",
       "    </tr>\n",
       "  </tbody>\n",
       "</table>\n",
       "</div>"
      ],
      "text/plain": [
       "                    return  pred_return  pred_pred_return\n",
       "return            1.000000    -0.011252         -0.012870\n",
       "pred_return      -0.011252     1.000000          0.041072\n",
       "pred_pred_return -0.012870     0.041072          1.000000"
      ]
     },
     "execution_count": 13,
     "metadata": {},
     "output_type": "execute_result"
    }
   ],
   "source": [
    "new_df.corr()"
   ]
  },
  {
   "cell_type": "code",
   "execution_count": 14,
   "id": "6984e7fc",
   "metadata": {},
   "outputs": [
    {
     "data": {
      "text/html": [
       "<div>\n",
       "<style scoped>\n",
       "    .dataframe tbody tr th:only-of-type {\n",
       "        vertical-align: middle;\n",
       "    }\n",
       "\n",
       "    .dataframe tbody tr th {\n",
       "        vertical-align: top;\n",
       "    }\n",
       "\n",
       "    .dataframe thead th {\n",
       "        text-align: right;\n",
       "    }\n",
       "</style>\n",
       "<table border=\"1\" class=\"dataframe\">\n",
       "  <thead>\n",
       "    <tr style=\"text-align: right;\">\n",
       "      <th></th>\n",
       "      <th>return</th>\n",
       "      <th>pred_return</th>\n",
       "      <th>pred_pred_return</th>\n",
       "      <th>pred</th>\n",
       "    </tr>\n",
       "  </thead>\n",
       "  <tbody>\n",
       "    <tr>\n",
       "      <th>return</th>\n",
       "      <td>1.000000</td>\n",
       "      <td>-0.013424</td>\n",
       "      <td>-0.017819</td>\n",
       "      <td>0.852131</td>\n",
       "    </tr>\n",
       "    <tr>\n",
       "      <th>pred_return</th>\n",
       "      <td>-0.013424</td>\n",
       "      <td>1.000000</td>\n",
       "      <td>0.044440</td>\n",
       "      <td>-0.010531</td>\n",
       "    </tr>\n",
       "    <tr>\n",
       "      <th>pred_pred_return</th>\n",
       "      <td>-0.017819</td>\n",
       "      <td>0.044440</td>\n",
       "      <td>1.000000</td>\n",
       "      <td>-0.008896</td>\n",
       "    </tr>\n",
       "    <tr>\n",
       "      <th>pred</th>\n",
       "      <td>0.852131</td>\n",
       "      <td>-0.010531</td>\n",
       "      <td>-0.008896</td>\n",
       "      <td>1.000000</td>\n",
       "    </tr>\n",
       "  </tbody>\n",
       "</table>\n",
       "</div>"
      ],
      "text/plain": [
       "                    return  pred_return  pred_pred_return      pred\n",
       "return            1.000000    -0.013424         -0.017819  0.852131\n",
       "pred_return      -0.013424     1.000000          0.044440 -0.010531\n",
       "pred_pred_return -0.017819     0.044440          1.000000 -0.008896\n",
       "pred              0.852131    -0.010531         -0.008896  1.000000"
      ]
     },
     "execution_count": 14,
     "metadata": {},
     "output_type": "execute_result"
    }
   ],
   "source": [
    "t3 = pd.read_parquet(\"/data/target_agg/TimeBar-30-start_20151027-end_20201231-M1-780_M2-10/ticker_universe_56_overnight_False_future_36_bars_mid.parquet.gzip\")\n",
    "new_corr = pd.concat([new_df, t3], axis=1, join='inner')\n",
    "new_corr.corr(numeric_only=True)"
   ]
  },
  {
   "cell_type": "code",
   "execution_count": null,
   "id": "6aea556d",
   "metadata": {},
   "outputs": [],
   "source": []
  },
  {
   "cell_type": "code",
   "execution_count": null,
   "id": "047d786b",
   "metadata": {},
   "outputs": [],
   "source": []
  },
  {
   "cell_type": "code",
   "execution_count": null,
   "id": "9b34b889",
   "metadata": {},
   "outputs": [],
   "source": []
  },
  {
   "cell_type": "code",
   "execution_count": 25,
   "id": "a9ee66be",
   "metadata": {},
   "outputs": [
    {
     "data": {
      "image/png": "[encoded data removed]",
      "text/plain": [
       "<Figure size 640x480 with 1 Axes>"
      ]
     },
     "metadata": {},
     "output_type": "display_data"
    }
   ],
   "source": [
    "plt.plot(multi_index_df.loc[('AAL')]['pred_close'], label='pred')\n",
    "plt.plot(temp_close.loc[('AAL')]['close'], label='true')\n",
    "plt.legend()\n",
    "plt.title('AAL')\n",
    "plt.xticks(rotation=30)\n",
    "plt.show()"
   ]
  },
  {
   "cell_type": "code",
   "execution_count": null,
   "id": "bd47869d",
   "metadata": {},
   "outputs": [],
   "source": []
  }
 ],
 "metadata": {
  "kernelspec": {
   "display_name": "Python 3 (ipykernel)",
   "language": "python",
   "name": "python3"
  },
  "language_info": {
   "codemirror_mode": {
    "name": "ipython",
    "version": 3
   },
   "file_extension": ".py",
   "mimetype": "text/x-python",
   "name": "python",
   "nbconvert_exporter": "python",
   "pygments_lexer": "ipython3",
   "version": "3.10.9"
  }
 },
 "nbformat": 4,
 "nbformat_minor": 5
}
